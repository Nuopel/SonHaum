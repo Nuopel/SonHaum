{
 "cells": [
  {
   "cell_type": "code",
   "execution_count": 144,
   "metadata": {},
   "outputs": [
    {
     "name": "stdout",
     "output_type": "stream",
     "text": [
      "0.011000000000000001\n",
      "B =  [0.39953005 0.14313752 0.21639253 0.18313752]\n",
      "0.2930200341236379\n",
      "0.47615755545091165\n"
     ]
    }
   ],
   "source": [
    "import scipy as sc\n",
    "import scipy.linalg as scli\n",
    "\n",
    "import matplotlib.pyplot as plt\n",
    "import matplotlib as matplotlib\n",
    "\n",
    "plt.rcParams.update({'font.size':15})\n",
    "matplotlib.rcParams['figure.figsize'] = (50,20)\n",
    "\n",
    "b=1\n",
    "c=1\n",
    "a=1\n",
    "V = 0.011\n",
    "K=0.000\n",
    "W=0.02\n",
    "Rh = 2.4\n",
    "Rl=1.4\n",
    "\n",
    "sol = [1 , 1 , 1 , 1 ]\n",
    "for ii in range (1,100):\n",
    "    J = sc.array(([8/9*sol[1]*sol[2], 8/9*sol[0]*sol[2], 8/9*sol[1]*sol[0],0],[0., 0, -1, Rl],[-1, 0, 0, Rh],[0, -1, 0, 1.]))\n",
    "    J_inv = scli.inv(J)\n",
    "    F =  sc.array((-V +8/9*sol[0]*sol[1]*sol[2]-K , Rl*sol[3]-2*W-sol[2] , Rh*sol[3]-2*W-sol[0], sol[3]-sol[1]-2*W))\n",
    "    sol = sol - J_inv.dot(F)\n",
    "\n",
    "V_out = +8/9*sol[0]*sol[1]*sol[2]-K\n",
    "print(V_out)\n",
    "print('B = ', sol)\n",
    "print(1.6*sol[3])\n",
    "print(2.6*sol[3])"
   ]
  },
  {
   "cell_type": "code",
   "execution_count": 112,
   "metadata": {},
   "outputs": [
    {
     "name": "stdout",
     "output_type": "stream",
     "text": [
      "[0.88888889 0.88888889 0.88888889]\n"
     ]
    },
    {
     "data": {
      "text/plain": [
       "[1, 1, 1, 1]"
      ]
     },
     "execution_count": 112,
     "metadata": {},
     "output_type": "execute_result"
    }
   ],
   "source": [
    " A = sc.array(([1,3,3],[1,4,3],[1,3,4]))\n",
    "print(B)\n",
    "sol"
   ]
  }
 ],
 "metadata": {
  "hide_input": false,
  "kernelspec": {
   "display_name": "Python 3",
   "language": "python",
   "name": "python3"
  },
  "language_info": {
   "codemirror_mode": {
    "name": "ipython",
    "version": 3
   },
   "file_extension": ".py",
   "mimetype": "text/x-python",
   "name": "python",
   "nbconvert_exporter": "python",
   "pygments_lexer": "ipython3",
   "version": "3.4.5"
  },
  "latex_envs": {
   "LaTeX_envs_menu_present": true,
   "autoclose": true,
   "autocomplete": true,
   "bibliofile": "biblio.bib",
   "cite_by": "apalike",
   "current_citInitial": 1,
   "eqLabelWithNumbers": true,
   "eqNumInitial": 1,
   "hotkeys": {
    "equation": "Ctrl-E",
    "itemize": "Ctrl-I"
   },
   "labels_anchors": false,
   "latex_user_defs": false,
   "report_style_numbering": false,
   "user_envs_cfg": false
  },
  "varInspector": {
   "cols": {
    "lenName": 16,
    "lenType": 16,
    "lenVar": 40
   },
   "kernels_config": {
    "python": {
     "delete_cmd_postfix": "",
     "delete_cmd_prefix": "del ",
     "library": "var_list.py",
     "varRefreshCmd": "print(var_dic_list())"
    },
    "r": {
     "delete_cmd_postfix": ") ",
     "delete_cmd_prefix": "rm(",
     "library": "var_list.r",
     "varRefreshCmd": "cat(var_dic_list()) "
    }
   },
   "types_to_exclude": [
    "module",
    "function",
    "builtin_function_or_method",
    "instance",
    "_Feature"
   ],
   "window_display": false
  }
 },
 "nbformat": 4,
 "nbformat_minor": 2
}
