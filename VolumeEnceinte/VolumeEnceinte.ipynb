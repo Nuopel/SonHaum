{
 "cells": [
  {
   "cell_type": "markdown",
   "metadata": {},
   "source": [
    "# Programme de calcul des dimensions de l'enceinte connectée\n",
    "\n",
    "## Objectif\n",
    "\n",
    "Le programme sert à résoudre l'équations non-linéaire décrivant les dimensions de l'enceinte connectée (modèle de Les Frères Poulain sur YouTube : https://youtu.be/ollr-PpCMAw). Pour cela on utilise la méthode de Newton.\n",
    "\n",
    "## Licence \n",
    "\n",
    "Ce programme est sous licence CC-Zéro (licence libre non copyleft). Libre à vous d'utiliser ce code, de le modifier, de le partager ou même de le commercialiser.\n",
    "\n",
    "## Auteur\n",
    "\n",
    "Le code est écrit par Valentin Besse (valentinbesse@aumbox.net)."
   ]
  },
  {
   "cell_type": "code",
   "execution_count": 17,
   "metadata": {},
   "outputs": [
    {
     "name": "stdout",
     "output_type": "stream",
     "text": [
      "La largeur A est : 408 mm\n",
      "La profondeur B est : 157 mm\n",
      "La hauteur C est : 251 mm\n",
      "La largeur intérieure a est : 368 mm\n",
      "La profondeur intérieure b est : 117 mm\n",
      "La hauteur intérieure c est : 211 mm\n"
     ]
    }
   ],
   "source": [
    "import math # importe le module mathematique.\n",
    "\n",
    "# Declaration des variables de depart\n",
    "volumeEnceinte = 8*10**6 # Volume de l'enceinte (mm3)\n",
    "epaisseurBois = 20 # Epaisseur du bois (mm)\n",
    "volumeBassReflex = 2*math.pi*70*115 # Volume du Bass Reflex à retiré (mm3)\n",
    "volumeCorrige = volumeEnceinte + volumeBassReflex # Volume corrigé de l'intérieur de la boite.\n",
    "ratioA = 2.6 # Ratio entre A et B\n",
    "ratioC = 1.6 # Ratio entre C et B\n",
    "\n",
    "# Definition des fonctions nécessaires au calcul de la méthode de Newton.\n",
    "\n",
    "# f(x) = 0\n",
    "def dx(f, x):\n",
    "    return abs(0-f(x))\n",
    "\n",
    "# Methode de Newton\n",
    "def newtons_method(f, df, x0, e):\n",
    "    delta = dx(f, x0)\n",
    "    while delta > e:\n",
    "        x0 = x0 - f(x0)/df(x0)\n",
    "        delta = dx(f, x0)\n",
    "    print('La largeur A est : %1.0f' % (ratioA*x0), 'mm') # Largeur\n",
    "    print('La profondeur B est : %1.0f' % x0, 'mm') # Profondeur\n",
    "    print('La hauteur C est : %1.0f' % (ratioC*x0), 'mm') # Hauteur\n",
    "    print('La largeur intérieure a est : %1.0f' % (ratioA*x0 - 2*epaisseurBois), 'mm') # Largeur intérieure\n",
    "    print('La profondeur intérieure b est : %1.0f' % (x0 - 2*epaisseurBois), 'mm') # Profondeur intérieure\n",
    "    print('La hauteur intérieure c est : %1.0f' % (ratioC*x0 - 2*epaisseurBois), 'mm') # Hauteur intérieure\n",
    "    \n",
    "    \n",
    "# Fonction f(x)\n",
    "def f(x):\n",
    "    return volumeCorrige - 8/9*(x - 2*epaisseurBois)*(1.6*x - 2*epaisseurBois)*(2.6*x - 2*epaisseurBois)\n",
    "\n",
    "# Derivee de la fonction f(x)\n",
    "def df(x):\n",
    "    return -8/9*((2.6*x - 2*epaisseurBois)*((1.6*x - 2*epaisseurBois) + 1.6*(x - 2*epaisseurBois)) + 2.6*(x - 2*epaisseurBois)*(1.6*x - 2*epaisseurBois))\n",
    "\n",
    "x0s = [100]\n",
    "for x0 in x0s:\n",
    "     newtons_method(f, df, x0, 1e-5)"
   ]
  },
  {
   "cell_type": "code",
   "execution_count": null,
   "metadata": {},
   "outputs": [],
   "source": []
  }
 ],
 "metadata": {
  "kernelspec": {
   "display_name": "Python 3",
   "language": "python",
   "name": "python3"
  },
  "language_info": {
   "codemirror_mode": {
    "name": "ipython",
    "version": 3
   },
   "file_extension": ".py",
   "mimetype": "text/x-python",
   "name": "python",
   "nbconvert_exporter": "python",
   "pygments_lexer": "ipython3",
   "version": "3.6.5"
  }
 },
 "nbformat": 4,
 "nbformat_minor": 2
}
