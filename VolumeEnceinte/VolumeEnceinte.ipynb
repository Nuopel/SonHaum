{
 "cells": [
  {
   "cell_type": "markdown",
   "metadata": {},
   "source": [
    "# Programme de calcul des dimensions de l'enceinte connectée\n",
    "\n",
    "## Objectif\n",
    "\n",
    "Le programme sert à résoudre l'équations non-linéaire décrivant les dimensions de l'enceinte connectée (modèle de Les Frères Poulain sur YouTube : https://youtu.be/ollr-PpCMAw). Pour cela on utilise la méthode de Newton.\n",
    "\n",
    "## Licence \n",
    "\n",
    "Ce programme est sous licence CC-Zéro (licence libre non copyleft). Libre à vous d'utiliser ce code, de le modifier, de le partager ou même de le commercialiser.\n",
    "\n",
    "## Auteur\n",
    "\n",
    "Le code est écrit par Valentin Besse (valentinbesse@aumbox.net)."
   ]
  },
  {
   "cell_type": "code",
   "execution_count": 31,
   "metadata": {},
   "outputs": [
    {
     "name": "stdout",
     "output_type": "stream",
     "text": [
      "Volume enceinte : 8.050580e+06\n",
      "La largeur A est : 408 mm\n",
      "La profondeur B est : 157 mm\n",
      "La hauteur C est : 251 mm\n",
      "La largeur intérieure a est : 368 mm\n",
      "La profondeur intérieure b est : 117 mm\n",
      "La hauteur intérieure c est : 211 mm\n",
      "Le recule du Bass Reflex d est  : 39 mm\n",
      "La profondeur intérieur corrigée est : 78 mm\n",
      "!!! ATTENTION !!!\n",
      "La hauteur du Bass Reflex est supériuer à la profondeur.\n"
     ]
    }
   ],
   "source": [
    "import math # importe le module mathematique.\n",
    "\n",
    "# Declaration des variables de depart\n",
    "volumeEnceinte = 8*10**6 # Volume de l'enceinte (mm3)\n",
    "epaisseurBois = 20 # Epaisseur du bois (mm)\n",
    "hauteurBassReflex = 115 # Hauteur du Bass Reflex (mmm)\n",
    "diametreBassReflex = 70 # Diametre du Bass Reflex (mmm)\n",
    "volumeBassReflex = 2*math.pi*diametreBassReflex*hauteurBassReflex # Volume du Bass Reflex à retiré (mm3)\n",
    "volumeCorrige = volumeEnceinte + volumeBassReflex # Volume corrigé de l'intérieur de la boite.\n",
    "ratioA = 2.6 # Ratio entre A et B\n",
    "ratioC = 1.6 # Ratio entre C et B\n",
    "\n",
    "print(\"\"\"Volume enceinte : %e\"\"\" % volumeCorrige)\n",
    "\n",
    "# Definition des fonctions nécessaires au calcul de la méthode de Newton.\n",
    "\n",
    "# f(x) = 0\n",
    "def dx(f, x):\n",
    "    return abs(0-f(x))\n",
    "\n",
    "# Methode de Newton\n",
    "def newtons_method(f, df, x0, e):\n",
    "    delta = dx(f, x0)\n",
    "    while delta > e:\n",
    "        x0 = x0 - f(x0)/df(x0)\n",
    "        delta = dx(f, x0)\n",
    "    print('La largeur A est : %1.0f' % (ratioA*x0), 'mm') # Largeur\n",
    "    print('La profondeur B est : %1.0f' % x0, 'mm') # Profondeur\n",
    "    print('La hauteur C est : %1.0f' % (ratioC*x0), 'mm') # Hauteur\n",
    "    print('La largeur intérieure a est : %1.0f' % (ratioA*x0 - 2*epaisseurBois), 'mm') # Largeur intérieure\n",
    "    print('La profondeur intérieure b est : %1.0f' % (x0 - 2*epaisseurBois), 'mm') # Profondeur intérieure\n",
    "    print('La hauteur intérieure c est : %1.0f' % (ratioC*x0 - 2*epaisseurBois), 'mm') # Hauteur intérieure\n",
    "    print(\"\"\"Le recule du Bass Reflex d est  : %1.0f\"\"\" % (1/3*(x0 - 2*epaisseurBois)), 'mm') # Recule Bass Reflex\n",
    "    print(\"\"\"La profondeur intérieur corrigée est : %1.0f\"\"\" %(2/3*(x0 - 2*epaisseurBois)), \"\"\"mm\"\"\") # Profondeur corrigée\n",
    "    \n",
    "    if 2/3*(x0 - 2*epaisseurBois) < hauteurBassReflex:\n",
    "        print(\"\"\"!!! ATTENTION !!!\"\"\")\n",
    "        print(\"\"\"La hauteur du Bass Reflex est supériuer à la profondeur.\"\"\")\n",
    "    \n",
    "# Fonction f(x)\n",
    "def f(x):\n",
    "    return volumeCorrige - 8/9*(x - 2*epaisseurBois)*(1.6*x - 2*epaisseurBois)*(2.6*x - 2*epaisseurBois)\n",
    "\n",
    "# Derivee de la fonction f(x)\n",
    "def df(x):\n",
    "    return -8/9*((2.6*x - 2*epaisseurBois)*((1.6*x - 2*epaisseurBois) + 1.6*(x - 2*epaisseurBois)) + 2.6*(x - 2*epaisseurBois)*(1.6*x - 2*epaisseurBois))\n",
    "\n",
    "x0s = [100]\n",
    "for x0 in x0s:\n",
    "     newtons_method(f, df, x0, 1e-5)"
   ]
  },
  {
   "cell_type": "markdown",
   "metadata": {},
   "source": [
    "## Auteur\n",
    "\n",
    "Le code est écrit par Samuel Dupont"
   ]
  },
  {
   "cell_type": "code",
   "execution_count": 5,
   "metadata": {
    "ExecuteTime": {
     "end_time": "2018-09-14T20:05:05.343573Z",
     "start_time": "2018-09-14T20:05:05.126821Z"
    }
   },
   "outputs": [
    {
     "name": "stdout",
     "output_type": "stream",
     "text": [
      "La largeur A est : 0.407 m\n",
      "La profondeur B est : 0.157 m\n",
      "La hauteur C est : 0.250 m\n",
      "La largeur interieur a est : 0.367 m\n",
      "La profondeur interieur b est : 0.117 m\n",
      "La hauteur interieur c est : 0.210 m\n",
      "Le volume resultant est : 8.0 L \n",
      "\n",
      "La largeur A est : 0.445 m\n",
      "La profondeur B est : 0.171 m\n",
      "La hauteur C est : 0.274 m\n",
      "La largeur interieur a est : 0.405 m\n",
      "La profondeur interieur b est : 0.131 m\n",
      "La hauteur interieur c est : 0.234 m\n",
      "Le volume resultant est : 11.0 L \n",
      "\n"
     ]
    }
   ],
   "source": [
    "import scipy as sc\n",
    "import scipy.linalg as scli\n",
    "\n",
    "def newtons_method(volume,Ep,Rh = 2.6, Rl=1.6,K=0):\n",
    "    # Allow to find the resulting inside/outside dimension of the desired vented box\n",
    "    # volume -> desired volume\n",
    "    # Ep -> width of the plank\n",
    "    # Rh -> ratio of the length compared to the depht, default = 2.6\n",
    "    # Rl -> ratio of the high compared to the depht, default = 1.6\n",
    "    # K -> extra interior volume to remove\n",
    "    sol = [1 , 1 , 1 , 1 ]\n",
    "    for ii in range (1,100):\n",
    "        J = sc.array(([8/9*sol[1]*sol[2], 8/9*sol[0]*sol[2], 8/9*sol[1]*sol[0],0],[0., 0, -1, Rl],[-1, 0, 0, Rh], [0, -1, 0, 1.]))\n",
    "        J_inv = scli.inv(J)\n",
    "        F =  sc.array((-volume +8/9*sol[0]*sol[1]*sol[2]-K , Rl*sol[3]-2*Ep-sol[2] , Rh*sol[3]-2*Ep-sol[0], sol[3]-sol[1]-2*Ep))\n",
    "        sol = sol - J_inv.dot(F)\n",
    "    sol = sc.concatenate( (sol[0:3], Rh*sol[3], sol[3], Rl*sol[3]),axis=None) \n",
    "    print('La largeur A est : %1.3f' % sol[3], 'm') # Largeur\n",
    "    print('La profondeur B est : %1.3f' % sol[4], 'm') # Profondeur\n",
    "    print('La hauteur C est : %1.3f' % sol[5], 'm') # Hauteur\n",
    "    print('La largeur interieur a est : %1.3f' % sol[0], 'm') # Largeur\n",
    "    print('La profondeur interieur b est : %1.3f' % sol[1], 'm') # Profondeur\n",
    "    print('La hauteur interieur c est : %1.3f' % sol[2], 'm') # Hauteur\n",
    "    return sol\n",
    "\n",
    "V = 0.008\n",
    "K=0.000\n",
    "W=0.02\n",
    "sol = newtons_method(V,W)\n",
    "V_out = +8/9*sol[0]*sol[1]*sol[2]-K\n",
    "print('Le volume resultant est : %1.1f' % (V_out*1e3), 'L \\n') # Hauteur\n",
    "\n",
    "V = 0.011\n",
    "K=0.000\n",
    "W=0.02\n",
    "sol = newtons_method(V,W)\n",
    "V_out = +8/9*sol[0]*sol[1]*sol[2]-K\n",
    "print('Le volume resultant est : %1.1f' % (V_out*1e3), 'L \\n') # Hauteur\n"
   ]
  }
 ],
 "metadata": {
  "hide_input": false,
  "kernelspec": {
   "display_name": "Python 3",
   "language": "python",
   "name": "python3"
  },
  "language_info": {
   "codemirror_mode": {
    "name": "ipython",
    "version": 3
   },
   "file_extension": ".py",
   "mimetype": "text/x-python",
   "name": "python",
   "nbconvert_exporter": "python",
   "pygments_lexer": "ipython3",
   "version": "3.6.4"
  },
  "latex_envs": {
   "LaTeX_envs_menu_present": true,
   "autoclose": false,
   "autocomplete": true,
   "bibliofile": "biblio.bib",
   "cite_by": "apalike",
   "current_citInitial": 1,
   "eqLabelWithNumbers": true,
   "eqNumInitial": 1,
   "hotkeys": {
    "equation": "Ctrl-E",
    "itemize": "Ctrl-I"
   },
   "labels_anchors": false,
   "latex_user_defs": false,
   "report_style_numbering": false,
   "user_envs_cfg": false
  },
  "toc": {
   "base_numbering": 1,
   "nav_menu": {},
   "number_sections": true,
   "sideBar": true,
   "skip_h1_title": false,
   "title_cell": "Table of Contents",
   "title_sidebar": "Contents",
   "toc_cell": false,
   "toc_position": {},
   "toc_section_display": true,
   "toc_window_display": false
  },
  "varInspector": {
   "cols": {
    "lenName": 16,
    "lenType": 16,
    "lenVar": 40
   },
   "kernels_config": {
    "python": {
     "delete_cmd_postfix": "",
     "delete_cmd_prefix": "del ",
     "library": "var_list.py",
     "varRefreshCmd": "print(var_dic_list())"
    },
    "r": {
     "delete_cmd_postfix": ") ",
     "delete_cmd_prefix": "rm(",
     "library": "var_list.r",
     "varRefreshCmd": "cat(var_dic_list()) "
    }
   },
   "types_to_exclude": [
    "module",
    "function",
    "builtin_function_or_method",
    "instance",
    "_Feature"
   ],
   "window_display": false
  }
 },
 "nbformat": 4,
 "nbformat_minor": 2
}
